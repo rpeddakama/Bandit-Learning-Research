{
 "cells": [
  {
   "cell_type": "code",
   "execution_count": 48,
   "id": "24a80127",
   "metadata": {},
   "outputs": [],
   "source": [
    "import datetime\n",
    "import numpy as np\n",
    "import matplotlib.pyplot as plt\n",
    "import random\n",
    "import seaborn as sns\n",
    "\n",
    "import pandas as pd\n",
    "\n",
    "%matplotlib inline"
   ]
  },
  {
   "cell_type": "code",
   "execution_count": 49,
   "id": "73d0ea07",
   "metadata": {},
   "outputs": [],
   "source": [
    "%run BanditLearning.ipynb"
   ]
  },
  {
   "cell_type": "code",
   "execution_count": 50,
   "id": "c74aedc7",
   "metadata": {},
   "outputs": [],
   "source": [
    "NUM_ARMS = 5\n",
    "NUM_ITERATIONS = 2000\n",
    "environment = Env(rewards=np.random.randint(1, 50, NUM_ARMS), deviations=np.random.randint(1, 10, NUM_ARMS))"
   ]
  },
  {
   "cell_type": "code",
   "execution_count": 51,
   "id": "f90209d6",
   "metadata": {},
   "outputs": [],
   "source": [
    "# Random Agent\n",
    "def RA_run():\n",
    "    random_agent = RandomAgent(env=environment, max_iterations=2000)\n",
    "    RA_history = random_agent.act()\n",
    "    \n",
    "    res = {\"method\": \"UCB_PC\", \"iterations\": NUM_ITERATIONS, \"arms (k)\": NUM_ARMS,\n",
    "           \"reward\": sum(RA_history['rewards']), \"time\": RA_history['time']}\n",
    "    \n",
    "    return res\n",
    "    \n",
    "    # print(f\"TOTAL REWARD : {sum(RA_history['rewards'])}\")\n",
    "    # print(f\"TIME TAKEN (ms) : {RA_history['time']}\")\n",
    "\n",
    "    # plot_history(RA_history)"
   ]
  },
  {
   "cell_type": "code",
   "execution_count": 52,
   "id": "8f3cf95e",
   "metadata": {},
   "outputs": [],
   "source": [
    "# Thompson Sampling\n",
    "def TS_run():\n",
    "    TS_history = TS_act(max_iterations=2000)\n",
    "    # print(f\"TOTAL REWARD : {sum(TS_history['rewards'])}\")\n",
    "    # print(f\"TIME TAKEN (ms) : {TS_history['time']}\")\n",
    "\n",
    "    # plot_history(TS_history)"
   ]
  },
  {
   "cell_type": "code",
   "execution_count": 53,
   "id": "c525da99",
   "metadata": {},
   "outputs": [],
   "source": [
    "# Epsilon Greedy\n",
    "def EG_run():\n",
    "    epsilon_greedy_agent = EpsilonGreedyAgent(env=environment, max_iterations=2000, epsilon=0.1)\n",
    "    EG_history = epsilon_greedy_agent.act()\n",
    "    \n",
    "    res = {\"method\": \"UCB_PC\", \"iterations\": NUM_ITERATIONS, \"arms (k)\": NUM_ARMS,\n",
    "           \"reward\": sum(EG_history['rewards']), \"time\": EG_history['time']}\n",
    "    \n",
    "    return res\n",
    "    \n",
    "    # print(f\"TOTAL REWARD : {sum(EG_history['rewards'])}\")\n",
    "    # print(f\"TIME TAKEN (ms) : {EG_history['time']}\")\n",
    "\n",
    "    # plot_history(EG_history)"
   ]
  },
  {
   "cell_type": "code",
   "execution_count": 54,
   "id": "8b249a8e",
   "metadata": {},
   "outputs": [],
   "source": [
    "# Upper Confidence Bound\n",
    "def UCB_run():\n",
    "    UCB_agent = UpperConfidenceBoundAgent(env=environment, max_iterations=2000)\n",
    "    UCB_history = UCB_agent.act()\n",
    "    \n",
    "    res = {\"method\": \"UCB_PC\", \"iterations\": NUM_ITERATIONS, \"arms (k)\": NUM_ARMS,\n",
    "           \"reward\": sum(UCB_history['rewards']), \"time\": UCB_history['time']}\n",
    "    \n",
    "    return res\n",
    "\n",
    "    # print(f\"TOTAL REWARD : {sum(UCB_history['rewards'])}\")\n",
    "    # print(f\"TIME TAKEN (ms) : {UCB_history['time']}\")\n",
    "\n",
    "    # plot_history(UCB_history)"
   ]
  },
  {
   "cell_type": "code",
   "execution_count": 55,
   "id": "894d8c7a",
   "metadata": {},
   "outputs": [],
   "source": [
    "# UCB Pick and Compare\n",
    "def UCB_PC_run():\n",
    "    UCB_PC_agent = UCB_PickAndCompareAgent(env=environment, max_iterations=2000)\n",
    "    UCB_PC_history = UCB_PC_agent.act()\n",
    "    \n",
    "    res = {\"method\": \"UCB_PC\", \"iterations\": NUM_ITERATIONS, \"arms (k)\": NUM_ARMS,\n",
    "           \"reward\": sum(UCB_PC_history['rewards']), \"time\": UCB_PC_history['time']}\n",
    "    \n",
    "    return res\n",
    "\n",
    "    # print(f\"TOTAL REWARD : {sum(UCB_PC_history['rewards'])}\")\n",
    "    # print(f\"TIME TAKEN (ms) : {UCB_PC_history['time']}\")\n",
    "\n",
    "    # plot_history(UCB_PC_history)"
   ]
  },
  {
   "cell_type": "code",
   "execution_count": 56,
   "id": "cab818fd",
   "metadata": {},
   "outputs": [],
   "source": [
    "results = pd.DataFrame()"
   ]
  },
  {
   "cell_type": "code",
   "execution_count": 57,
   "id": "9c0e9412",
   "metadata": {},
   "outputs": [],
   "source": [
    "results = results.append(ignore_index=True)\n",
    "\n",
    "\n",
    "\n",
    "# test = {\"bruh\": [1,2,3], \"bruh2\": 2}\n",
    "# results = results.append(test, ignore_index=True)"
   ]
  },
  {
   "cell_type": "code",
   "execution_count": 58,
   "id": "154c05b2",
   "metadata": {},
   "outputs": [
    {
     "data": {
      "text/html": [
       "<div>\n",
       "<style scoped>\n",
       "    .dataframe tbody tr th:only-of-type {\n",
       "        vertical-align: middle;\n",
       "    }\n",
       "\n",
       "    .dataframe tbody tr th {\n",
       "        vertical-align: top;\n",
       "    }\n",
       "\n",
       "    .dataframe thead th {\n",
       "        text-align: right;\n",
       "    }\n",
       "</style>\n",
       "<table border=\"1\" class=\"dataframe\">\n",
       "  <thead>\n",
       "    <tr style=\"text-align: right;\">\n",
       "      <th></th>\n",
       "      <th>bruh</th>\n",
       "      <th>bruh2</th>\n",
       "    </tr>\n",
       "  </thead>\n",
       "  <tbody>\n",
       "    <tr>\n",
       "      <th>0</th>\n",
       "      <td>[1, 2, 3]</td>\n",
       "      <td>2.0</td>\n",
       "    </tr>\n",
       "  </tbody>\n",
       "</table>\n",
       "</div>"
      ],
      "text/plain": [
       "        bruh  bruh2\n",
       "0  [1, 2, 3]    2.0"
      ]
     },
     "execution_count": 58,
     "metadata": {},
     "output_type": "execute_result"
    }
   ],
   "source": []
  }
 ],
 "metadata": {
  "kernelspec": {
   "display_name": "Python 3 (ipykernel)",
   "language": "python",
   "name": "python3"
  },
  "language_info": {
   "codemirror_mode": {
    "name": "ipython",
    "version": 3
   },
   "file_extension": ".py",
   "mimetype": "text/x-python",
   "name": "python",
   "nbconvert_exporter": "python",
   "pygments_lexer": "ipython3",
   "version": "3.7.9"
  }
 },
 "nbformat": 4,
 "nbformat_minor": 5
}
