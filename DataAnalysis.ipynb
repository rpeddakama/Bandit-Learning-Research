{
 "cells": [
  {
   "cell_type": "code",
   "execution_count": 84,
   "id": "24a80127",
   "metadata": {},
   "outputs": [],
   "source": [
    "import datetime\n",
    "import numpy as np\n",
    "import matplotlib.pyplot as plt\n",
    "import random\n",
    "import seaborn as sns\n",
    "\n",
    "import pandas as pd\n",
    "\n",
    "%matplotlib inline"
   ]
  },
  {
   "cell_type": "code",
   "execution_count": 85,
   "id": "60d7453a",
   "metadata": {},
   "outputs": [],
   "source": [
    "%run BanditLearning.ipynb"
   ]
  },
  {
   "cell_type": "code",
   "execution_count": 86,
   "id": "e470e467",
   "metadata": {},
   "outputs": [],
   "source": [
    "NUM_ARMS = 5\n",
    "NUM_ITERATIONS = 2000\n",
    "environment = Env(rewards=np.random.randint(1, 50, NUM_ARMS), deviations=np.random.randint(1, 10, NUM_ARMS))"
   ]
  },
  {
   "cell_type": "code",
   "execution_count": 87,
   "id": "e9f62284",
   "metadata": {},
   "outputs": [],
   "source": [
    "# Random Agent\n",
    "def RA_run():\n",
    "    random_agent = RandomAgent(env=environment, max_iterations=2000)\n",
    "    RA_history = random_agent.act()\n",
    "    \n",
    "    res = {\"method\": \"RA\", \"iterations\": NUM_ITERATIONS, \"arms (k)\": NUM_ARMS,\n",
    "           \"reward\": sum(RA_history['rewards']), \"time (ms)\": RA_history['time']}\n",
    "    \n",
    "    return res\n",
    "    \n",
    "    # print(f\"TOTAL REWARD : {sum(RA_history['rewards'])}\")\n",
    "    # print(f\"TIME TAKEN (ms) : {RA_history['time']}\")\n",
    "\n",
    "    # plot_history(RA_history)"
   ]
  },
  {
   "cell_type": "code",
   "execution_count": 88,
   "id": "8b5bf423",
   "metadata": {},
   "outputs": [],
   "source": [
    "# Thompson Sampling\n",
    "def TS_run():\n",
    "    TS_history = TS_act(max_iterations=2000)\n",
    "    \n",
    "    res = {\"method\": \"TS\", \"iterations\": NUM_ITERATIONS, \"arms (k)\": NUM_ARMS,\n",
    "           \"reward\": sum(TS_history['rewards']), \"time (ms)\": TS_history['time']}\n",
    "    \n",
    "    return res\n",
    "    \n",
    "    # print(f\"TOTAL REWARD : {sum(TS_history['rewards'])}\")\n",
    "    # print(f\"TIME TAKEN (ms) : {TS_history['time']}\")\n",
    "\n",
    "    # plot_history(TS_history)"
   ]
  },
  {
   "cell_type": "code",
   "execution_count": 89,
   "id": "539263db",
   "metadata": {},
   "outputs": [],
   "source": [
    "# Epsilon Greedy\n",
    "def EG_run():\n",
    "    epsilon_greedy_agent = EpsilonGreedyAgent(env=environment, max_iterations=2000, epsilon=0.1)\n",
    "    EG_history = epsilon_greedy_agent.act()\n",
    "    \n",
    "    res = {\"method\": \"EG\", \"iterations\": NUM_ITERATIONS, \"arms (k)\": NUM_ARMS,\n",
    "           \"reward\": sum(EG_history['rewards']), \"time (ms)\": EG_history['time']}\n",
    "    \n",
    "    return res\n",
    "    \n",
    "    # print(f\"TOTAL REWARD : {sum(EG_history['rewards'])}\")\n",
    "    # print(f\"TIME TAKEN (ms) : {EG_history['time']}\")\n",
    "\n",
    "    # plot_history(EG_history)"
   ]
  },
  {
   "cell_type": "code",
   "execution_count": 90,
   "id": "a985dd27",
   "metadata": {},
   "outputs": [],
   "source": [
    "# Upper Confidence Bound\n",
    "def UCB_run():\n",
    "    UCB_agent = UpperConfidenceBoundAgent(env=environment, max_iterations=2000)\n",
    "    UCB_history = UCB_agent.act()\n",
    "    \n",
    "    res = {\"method\": \"UCB\", \"iterations\": NUM_ITERATIONS, \"arms (k)\": NUM_ARMS,\n",
    "           \"reward\": sum(UCB_history['rewards']), \"time (ms)\": UCB_history['time']}\n",
    "    \n",
    "    return res\n",
    "\n",
    "    # print(f\"TOTAL REWARD : {sum(UCB_history['rewards'])}\")\n",
    "    # print(f\"TIME TAKEN (ms) : {UCB_history['time']}\")\n",
    "\n",
    "    # plot_history(UCB_history)"
   ]
  },
  {
   "cell_type": "code",
   "execution_count": 91,
   "id": "e21c7cbd",
   "metadata": {},
   "outputs": [],
   "source": [
    "# UCB Pick and Compare\n",
    "def UCB_PC_run():\n",
    "    UCB_PC_agent = UCB_PickAndCompareAgent(env=environment, max_iterations=2000)\n",
    "    UCB_PC_history = UCB_PC_agent.act()\n",
    "    \n",
    "    res = {\"method\": \"UCB_PC\", \"iterations\": NUM_ITERATIONS, \"arms (k)\": NUM_ARMS,\n",
    "           \"reward\": sum(UCB_PC_history['rewards']), \"time (ms)\": UCB_PC_history['time']}\n",
    "    \n",
    "    return res\n",
    "\n",
    "    # print(f\"TOTAL REWARD : {sum(UCB_PC_history['rewards'])}\")\n",
    "    # print(f\"TIME TAKEN (ms) : {UCB_PC_history['time']}\")\n",
    "\n",
    "    # plot_history(UCB_PC_history)"
   ]
  },
  {
   "cell_type": "code",
   "execution_count": 92,
   "id": "907cd061",
   "metadata": {},
   "outputs": [],
   "source": [
    "results = pd.DataFrame()"
   ]
  },
  {
   "cell_type": "code",
   "execution_count": 93,
   "id": "2037be72",
   "metadata": {},
   "outputs": [],
   "source": [
    "arm_arr = [1, 10, 100, 1000, 5000, 10000]\n",
    "iter_arr = [100, 500, 1000, 2000, 5000, 10000]\n",
    "\n",
    "for i in range(len(arm_arr)):\n",
    "    for j in range(len(iter_arr)):\n",
    "        NUM_ARMS = arm_arr[i]\n",
    "        NUM_ITERATIONS = iter_arr[j]\n",
    "        \n",
    "        results = results.append(RA_run(), ignore_index=True)\n",
    "        results = results.append(TS_run(), ignore_index=True)\n",
    "        results = results.append(EG_run(), ignore_index=True)\n",
    "        results = results.append(UCB_run(), ignore_index=True)\n",
    "        results = results.append(UCB_PC_run(), ignore_index=True)\n",
    "\n",
    "# test = {\"bruh\": [1,2,3], \"bruh2\": 2}\n",
    "# results = results.append(test, ignore_index=True)"
   ]
  },
  {
   "cell_type": "code",
   "execution_count": 94,
   "id": "c2613ce1",
   "metadata": {},
   "outputs": [
    {
     "data": {
      "text/html": [
       "<div>\n",
       "<style scoped>\n",
       "    .dataframe tbody tr th:only-of-type {\n",
       "        vertical-align: middle;\n",
       "    }\n",
       "\n",
       "    .dataframe tbody tr th {\n",
       "        vertical-align: top;\n",
       "    }\n",
       "\n",
       "    .dataframe thead th {\n",
       "        text-align: right;\n",
       "    }\n",
       "</style>\n",
       "<table border=\"1\" class=\"dataframe\">\n",
       "  <thead>\n",
       "    <tr style=\"text-align: right;\">\n",
       "      <th></th>\n",
       "      <th>method</th>\n",
       "      <th>iterations</th>\n",
       "      <th>arms (k)</th>\n",
       "      <th>reward</th>\n",
       "      <th>time (ms)</th>\n",
       "    </tr>\n",
       "  </thead>\n",
       "  <tbody>\n",
       "    <tr>\n",
       "      <th>0</th>\n",
       "      <td>RA</td>\n",
       "      <td>100.0</td>\n",
       "      <td>1.0</td>\n",
       "      <td>34169.281156</td>\n",
       "      <td>52.032</td>\n",
       "    </tr>\n",
       "    <tr>\n",
       "      <th>1</th>\n",
       "      <td>TS</td>\n",
       "      <td>100.0</td>\n",
       "      <td>1.0</td>\n",
       "      <td>58042.690108</td>\n",
       "      <td>55.969</td>\n",
       "    </tr>\n",
       "    <tr>\n",
       "      <th>2</th>\n",
       "      <td>EG</td>\n",
       "      <td>100.0</td>\n",
       "      <td>1.0</td>\n",
       "      <td>55174.014106</td>\n",
       "      <td>31.966</td>\n",
       "    </tr>\n",
       "    <tr>\n",
       "      <th>3</th>\n",
       "      <td>UCB</td>\n",
       "      <td>100.0</td>\n",
       "      <td>1.0</td>\n",
       "      <td>58010.555448</td>\n",
       "      <td>50.999</td>\n",
       "    </tr>\n",
       "    <tr>\n",
       "      <th>4</th>\n",
       "      <td>UCB_PC</td>\n",
       "      <td>100.0</td>\n",
       "      <td>1.0</td>\n",
       "      <td>57910.415321</td>\n",
       "      <td>64.031</td>\n",
       "    </tr>\n",
       "  </tbody>\n",
       "</table>\n",
       "</div>"
      ],
      "text/plain": [
       "   method  iterations  arms (k)        reward  time (ms)\n",
       "0      RA       100.0       1.0  34169.281156     52.032\n",
       "1      TS       100.0       1.0  58042.690108     55.969\n",
       "2      EG       100.0       1.0  55174.014106     31.966\n",
       "3     UCB       100.0       1.0  58010.555448     50.999\n",
       "4  UCB_PC       100.0       1.0  57910.415321     64.031"
      ]
     },
     "execution_count": 94,
     "metadata": {},
     "output_type": "execute_result"
    }
   ],
   "source": [
    "results.head()"
   ]
  },
  {
   "cell_type": "code",
   "execution_count": 95,
   "id": "0bda8d6c",
   "metadata": {},
   "outputs": [],
   "source": [
    "results.to_csv('bandit_data.csv')"
   ]
  }
 ],
 "metadata": {
  "kernelspec": {
   "display_name": "Python 3 (ipykernel)",
   "language": "python",
   "name": "python3"
  },
  "language_info": {
   "codemirror_mode": {
    "name": "ipython",
    "version": 3
   },
   "file_extension": ".py",
   "mimetype": "text/x-python",
   "name": "python",
   "nbconvert_exporter": "python",
   "pygments_lexer": "ipython3",
   "version": "3.7.9"
  }
 },
 "nbformat": 4,
 "nbformat_minor": 5
}
