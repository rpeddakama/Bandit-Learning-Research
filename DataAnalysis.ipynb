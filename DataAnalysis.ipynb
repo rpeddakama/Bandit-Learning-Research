{
 "cells": [
  {
   "cell_type": "code",
   "execution_count": 63,
   "id": "24a80127",
   "metadata": {},
   "outputs": [],
   "source": [
    "import datetime\n",
    "import numpy as np\n",
    "import matplotlib.pyplot as plt\n",
    "import random\n",
    "import seaborn as sns\n",
    "\n",
    "import pandas as pd\n",
    "\n",
    "%matplotlib inline"
   ]
  },
  {
   "cell_type": "code",
   "execution_count": 64,
   "id": "30513d66",
   "metadata": {},
   "outputs": [],
   "source": [
    "%run BanditLearning.ipynb"
   ]
  },
  {
   "cell_type": "code",
   "execution_count": 65,
   "id": "eb6325da",
   "metadata": {},
   "outputs": [],
   "source": [
    "NUM_ARMS = 5\n",
    "NUM_ITERATIONS = 2000\n",
    "environment = Env(rewards=np.random.randint(1, 50, NUM_ARMS), deviations=np.random.randint(1, 10, NUM_ARMS))"
   ]
  },
  {
   "cell_type": "code",
   "execution_count": 66,
   "id": "476a369d",
   "metadata": {},
   "outputs": [],
   "source": [
    "# Random Agent\n",
    "def RA_run():\n",
    "    random_agent = RandomAgent(env=environment, max_iterations=2000)\n",
    "    RA_history = random_agent.act()\n",
    "    \n",
    "    res = {\"method\": \"UCB_PC\", \"iterations\": NUM_ITERATIONS, \"arms (k)\": NUM_ARMS,\n",
    "           \"reward\": sum(RA_history['rewards']), \"time\": RA_history['time']}\n",
    "    \n",
    "    return res\n",
    "    \n",
    "    # print(f\"TOTAL REWARD : {sum(RA_history['rewards'])}\")\n",
    "    # print(f\"TIME TAKEN (ms) : {RA_history['time']}\")\n",
    "\n",
    "    # plot_history(RA_history)"
   ]
  },
  {
   "cell_type": "code",
   "execution_count": 67,
   "id": "2e46b3bc",
   "metadata": {},
   "outputs": [],
   "source": [
    "# Thompson Sampling\n",
    "def TS_run():\n",
    "    TS_history = TS_act(max_iterations=2000)\n",
    "    \n",
    "    res = {\"method\": \"UCB_PC\", \"iterations\": NUM_ITERATIONS, \"arms (k)\": NUM_ARMS,\n",
    "           \"reward\": sum(TS_history['rewards']), \"time\": TS_history['time']}\n",
    "    \n",
    "    return res\n",
    "    \n",
    "    # print(f\"TOTAL REWARD : {sum(TS_history['rewards'])}\")\n",
    "    # print(f\"TIME TAKEN (ms) : {TS_history['time']}\")\n",
    "\n",
    "    # plot_history(TS_history)"
   ]
  },
  {
   "cell_type": "code",
   "execution_count": 68,
   "id": "12991d65",
   "metadata": {},
   "outputs": [],
   "source": [
    "# Epsilon Greedy\n",
    "def EG_run():\n",
    "    epsilon_greedy_agent = EpsilonGreedyAgent(env=environment, max_iterations=2000, epsilon=0.1)\n",
    "    EG_history = epsilon_greedy_agent.act()\n",
    "    \n",
    "    res = {\"method\": \"UCB_PC\", \"iterations\": NUM_ITERATIONS, \"arms (k)\": NUM_ARMS,\n",
    "           \"reward\": sum(EG_history['rewards']), \"time\": EG_history['time']}\n",
    "    \n",
    "    return res\n",
    "    \n",
    "    # print(f\"TOTAL REWARD : {sum(EG_history['rewards'])}\")\n",
    "    # print(f\"TIME TAKEN (ms) : {EG_history['time']}\")\n",
    "\n",
    "    # plot_history(EG_history)"
   ]
  },
  {
   "cell_type": "code",
   "execution_count": 69,
   "id": "5002550d",
   "metadata": {},
   "outputs": [],
   "source": [
    "# Upper Confidence Bound\n",
    "def UCB_run():\n",
    "    UCB_agent = UpperConfidenceBoundAgent(env=environment, max_iterations=2000)\n",
    "    UCB_history = UCB_agent.act()\n",
    "    \n",
    "    res = {\"method\": \"UCB_PC\", \"iterations\": NUM_ITERATIONS, \"arms (k)\": NUM_ARMS,\n",
    "           \"reward\": sum(UCB_history['rewards']), \"time\": UCB_history['time']}\n",
    "    \n",
    "    return res\n",
    "\n",
    "    # print(f\"TOTAL REWARD : {sum(UCB_history['rewards'])}\")\n",
    "    # print(f\"TIME TAKEN (ms) : {UCB_history['time']}\")\n",
    "\n",
    "    # plot_history(UCB_history)"
   ]
  },
  {
   "cell_type": "code",
   "execution_count": 70,
   "id": "af6bce40",
   "metadata": {},
   "outputs": [],
   "source": [
    "# UCB Pick and Compare\n",
    "def UCB_PC_run():\n",
    "    UCB_PC_agent = UCB_PickAndCompareAgent(env=environment, max_iterations=2000)\n",
    "    UCB_PC_history = UCB_PC_agent.act()\n",
    "    \n",
    "    res = {\"method\": \"UCB_PC\", \"iterations\": NUM_ITERATIONS, \"arms (k)\": NUM_ARMS,\n",
    "           \"reward\": sum(UCB_PC_history['rewards']), \"time\": UCB_PC_history['time']}\n",
    "    \n",
    "    return res\n",
    "\n",
    "    # print(f\"TOTAL REWARD : {sum(UCB_PC_history['rewards'])}\")\n",
    "    # print(f\"TIME TAKEN (ms) : {UCB_PC_history['time']}\")\n",
    "\n",
    "    # plot_history(UCB_PC_history)"
   ]
  },
  {
   "cell_type": "code",
   "execution_count": 78,
   "id": "c001a8ee",
   "metadata": {},
   "outputs": [],
   "source": [
    "results = pd.DataFrame()"
   ]
  },
  {
   "cell_type": "code",
   "execution_count": null,
   "id": "5bbbc27c",
   "metadata": {},
   "outputs": [],
   "source": [
    "arm_arr = [1, 10, 100, 1000, 5000, 10000]\n",
    "iter_arr = [100, 500, 1000, 2000, 5000, 10000]\n",
    "\n",
    "for i in range(len(arm_arr)):\n",
    "    for j in range(len(iter_arr)):\n",
    "        NUM_ARMS = arm_arr[i]\n",
    "        NUM_ITERATIONS = iter_arr[j]\n",
    "        \n",
    "        results = results.append(RA_run(), ignore_index=True)\n",
    "        results = results.append(TS_run(), ignore_index=True)\n",
    "        results = results.append(EG_run(), ignore_index=True)\n",
    "        results = results.append(UCB_run(), ignore_index=True)\n",
    "        results = results.append(UCB_PC_run(), ignore_index=True)\n",
    "\n",
    "# test = {\"bruh\": [1,2,3], \"bruh2\": 2}\n",
    "# results = results.append(test, ignore_index=True)"
   ]
  },
  {
   "cell_type": "code",
   "execution_count": null,
   "id": "29a834ea",
   "metadata": {},
   "outputs": [],
   "source": [
    "results"
   ]
  }
 ],
 "metadata": {
  "kernelspec": {
   "display_name": "Python 3 (ipykernel)",
   "language": "python",
   "name": "python3"
  },
  "language_info": {
   "codemirror_mode": {
    "name": "ipython",
    "version": 3
   },
   "file_extension": ".py",
   "mimetype": "text/x-python",
   "name": "python",
   "nbconvert_exporter": "python",
   "pygments_lexer": "ipython3",
   "version": "3.7.9"
  }
 },
 "nbformat": 4,
 "nbformat_minor": 5
}
